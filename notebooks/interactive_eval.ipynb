{
 "cells": [
  {
   "cell_type": "markdown",
   "id": "cb95acb4",
   "metadata": {},
   "source": [
    "## Interactive evaluation of classification model\n",
    "\n",
    "To check where the existing models fail and try to understand why"
   ]
  },
  {
   "cell_type": "code",
   "execution_count": null,
   "id": "d44971b8",
   "metadata": {},
   "outputs": [],
   "source": [
    "import torch\n",
    "from pytorch_lightning import Trainer\n",
    "from torch.utils.data import DataLoader\n",
    "\n",
    "from protein_classification.config import AlgorithmConfig, DataConfig, DataAugmentationConfig\n",
    "from protein_classification.data import InMemoryDataset, ZarrDataset\n",
    "from protein_classification.data.cellatlas import get_cellatlas_filepaths_and_labels\n",
    "from protein_classification.data.preprocessing import ZarrPreprocessor\n",
    "from protein_classification.data.utils import train_test_split, collate_test_time_crops\n",
    "from protein_classification.model import BioStructClassifier\n",
    "from protein_classification.utils.evaluation import compute_classification_metrics\n",
    "from protein_classification.utils.io import load_config, load_checkpoint\n",
    "\n",
    "torch.set_float32_matmul_precision('medium')"
   ]
  },
  {
   "cell_type": "code",
   "execution_count": null,
   "id": "5838b8e9",
   "metadata": {},
   "outputs": [],
   "source": [
    "CKPT_DIR = \"/group/jug/federico/classification_training/2507/DenseNet121_5Cl_Mitochondria/4\""
   ]
  },
  {
   "cell_type": "markdown",
   "id": "2c58cb71",
   "metadata": {},
   "source": [
    "Get configs"
   ]
  },
  {
   "cell_type": "code",
   "execution_count": null,
   "id": "e9b60652",
   "metadata": {},
   "outputs": [],
   "source": [
    "algo_config = AlgorithmConfig(\n",
    "    **load_config(\n",
    "        config_fpath=CKPT_DIR, config_type=\"algorithm\",\n",
    "    )\n",
    ")\n",
    "algo_config.training_config.batch_size = 1 # Evaluate one sample at a time\n",
    "data_config = DataConfig(\n",
    "    **load_config(\n",
    "        config_fpath=CKPT_DIR, config_type=\"data\",\n",
    "    )\n",
    ")\n",
    "data_config.test_augmentation_config = DataAugmentationConfig(\n",
    "    transform=None,\n",
    "    crop_size=data_config.train_augmentation_config.crop_size,\n",
    "    random_crop=True,\n",
    "    strategy=\"background\",\n",
    "    metrics=[\"std\"],\n",
    "    bg_threshold=3.0, # Default threshold for background crops\n",
    ")"
   ]
  },
  {
   "cell_type": "markdown",
   "id": "88ab43b8",
   "metadata": {},
   "source": [
    "Get Data"
   ]
  },
  {
   "cell_type": "code",
   "execution_count": null,
   "id": "310cb119",
   "metadata": {},
   "outputs": [],
   "source": [
    "input_data, curr_labels = get_cellatlas_filepaths_and_labels(\n",
    "    data_dir=data_config.data_dir, protein_labels=data_config.labels,\n",
    ")\n",
    "_, test_input_data = train_test_split(\n",
    "    input_data, train_ratio=0.9, deterministic=True\n",
    ")\n",
    "print(\"--------------Dataset Info--------------\")\n",
    "print(f\"Number test samples: {len(test_input_data)}\")\n",
    "print(f\"Labels: {curr_labels}\")\n",
    "print(\"----------------------------------------\\n\")\n"
   ]
  },
  {
   "cell_type": "code",
   "execution_count": null,
   "id": "bb4e87cd",
   "metadata": {},
   "outputs": [],
   "source": [
    "test_dataset = InMemoryDataset(\n",
    "    inputs=test_input_data,\n",
    "    split=\"test\",\n",
    "    return_label=True,\n",
    "    img_size=data_config.img_size,\n",
    "    augmentation_config=data_config.test_augmentation_config,\n",
    "    bit_depth=data_config.bit_depth,\n",
    "    normalize=data_config.normalize,\n",
    "    dataset_stats=data_config.dataset_stats,\n",
    ")"
   ]
  },
  {
   "cell_type": "code",
   "execution_count": null,
   "id": "e85bdbb2",
   "metadata": {},
   "outputs": [],
   "source": [
    "test_dloader = DataLoader(\n",
    "test_dataset,\n",
    "batch_size=algo_config.training_config.batch_size,\n",
    "shuffle=False,\n",
    "num_workers=3,\n",
    "pin_memory=True,\n",
    "drop_last=False,\n",
    "collate_fn=(\n",
    "    collate_test_time_crops \n",
    "    if data_config.test_augmentation_config.strategy == \"overlap\" else None\n",
    "),\n",
    ")"
   ]
  },
  {
   "cell_type": "markdown",
   "id": "f428aa8f",
   "metadata": {},
   "source": [
    "Setup the model"
   ]
  },
  {
   "cell_type": "code",
   "execution_count": null,
   "id": "de3d2831",
   "metadata": {},
   "outputs": [],
   "source": [
    "model = BioStructClassifier(config=algo_config)\n",
    "ckpt = load_checkpoint(ckpt_dir=CKPT_DIR, best=True)\n",
    "model.load_state_dict(ckpt[\"state_dict\"], strict=True)"
   ]
  },
  {
   "cell_type": "markdown",
   "id": "d8936bb9",
   "metadata": {},
   "source": [
    "Get predictions"
   ]
  },
  {
   "cell_type": "code",
   "execution_count": null,
   "id": "f2e54f80",
   "metadata": {},
   "outputs": [],
   "source": [
    "trainer = Trainer(\n",
    "    accelerator=\"gpu\",\n",
    "    enable_progress_bar=True,\n",
    "    precision=32,\n",
    ")"
   ]
  },
  {
   "cell_type": "code",
   "execution_count": null,
   "id": "f6922fbf",
   "metadata": {},
   "outputs": [],
   "source": [
    "outputs = trainer.predict(model=model, dataloaders=test_dloader)\n",
    "preds, probs, labels, inputs = [], [], [], []\n",
    "for batch in outputs:\n",
    "    batch_preds, batch_probs, batch_labels, batch_inputs = batch\n",
    "    preds.append(batch_preds)\n",
    "    probs.append(batch_probs)\n",
    "    labels.append(batch_labels)\n",
    "    inputs.append(batch_inputs)"
   ]
  },
  {
   "cell_type": "markdown",
   "id": "d7bc0e61",
   "metadata": {},
   "source": [
    "Compute metrics"
   ]
  },
  {
   "cell_type": "code",
   "execution_count": null,
   "id": "43ac65be",
   "metadata": {},
   "outputs": [],
   "source": [
    "metrics = compute_classification_metrics(\n",
    "    preds=torch.cat(preds),\n",
    "    gts=torch.cat(labels),\n",
    "    probs=torch.cat(probs),\n",
    "    num_classes=len(curr_labels),\n",
    "    average=\"macro\",\n",
    ")"
   ]
  },
  {
   "cell_type": "code",
   "execution_count": null,
   "id": "ddef6803",
   "metadata": {},
   "outputs": [],
   "source": [
    "print(\"\\n------------------------------------------\")\n",
    "print(\"Accuracy:\", metrics[\"accuracy\"])\n",
    "print(\"F1 (macro):\", metrics[\"f1\"])\n",
    "print(\"Precision:\", metrics[\"precision\"])\n",
    "print(\"Recall:\", metrics[\"recall\"])\n",
    "print(\"Confusion Matrix:\\n\", metrics[\"confusion_matrix\"])"
   ]
  },
  {
   "cell_type": "markdown",
   "id": "73c81513",
   "metadata": {},
   "source": [
    "### Debug: understand why the model is struggling in some cases"
   ]
  },
  {
   "cell_type": "markdown",
   "id": "30983067",
   "metadata": {},
   "source": [
    "Check incorrectly labeled samples of class 1"
   ]
  },
  {
   "cell_type": "code",
   "execution_count": null,
   "id": "1515885b",
   "metadata": {},
   "outputs": [],
   "source": [
    "right_idxs = torch.where((torch.tensor(labels) == 1) & (torch.tensor(preds) == 1))[0]\n",
    "wrong_idxs = torch.where((torch.tensor(labels) == 1) & (torch.tensor(preds) == 3))[0]\n",
    "right_idxs_cl3 = torch.where((torch.tensor(labels) == 3) & (torch.tensor(preds) == 3))[0]\n",
    "len(right_idxs), len(wrong_idxs), len(right_idxs_cl3)"
   ]
  },
  {
   "cell_type": "code",
   "execution_count": null,
   "id": "689307d9",
   "metadata": {},
   "outputs": [],
   "source": [
    "# Permute indexes to visualize the samples\n",
    "right_idxs = right_idxs[torch.randperm(len(right_idxs))]\n",
    "wrong_idxs = wrong_idxs[torch.randperm(len(wrong_idxs))]\n",
    "right_idxs_cl3 = right_idxs_cl3[torch.randperm(len(right_idxs_cl3))]"
   ]
  },
  {
   "cell_type": "code",
   "execution_count": null,
   "id": "7a084621",
   "metadata": {},
   "outputs": [],
   "source": [
    "import matplotlib.pyplot as plt\n",
    "\n",
    "fig, axes = plt.subplots(3, 6, figsize=(30, 15), constrained_layout=True)\n",
    "fig.patch.set_facecolor(\"black\")\n",
    "for i, idx in enumerate(right_idxs[:6]):\n",
    "    axes[0, i].imshow(inputs[idx].squeeze(), cmap=\"gray\")\n",
    "    axes[0, i].text(\n",
    "        0.95, 0.95, f\"probs: {[round(p, 2) for p in probs[idx].squeeze().tolist()]}\",\n",
    "        transform=axes[0, i].transAxes, fontsize=14,\n",
    "        verticalalignment='top', horizontalalignment='right',\n",
    "        bbox=dict(facecolor='white', alpha=0.5, edgecolor='none')\n",
    "    )\n",
    "    axes[0, i].axis(\"off\")\n",
    "\n",
    "for i, idx in enumerate(wrong_idxs[:6]):\n",
    "    axes[1, i].imshow(inputs[idx].squeeze(), cmap=\"gray\")\n",
    "    axes[1, i].axis(\"off\")\n",
    "    axes[1, i].text(\n",
    "        0.95, 0.95, f\"probs: {[round(p, 2) for p in probs[idx].squeeze().tolist()]}\",\n",
    "        transform=axes[1, i].transAxes, fontsize=14,\n",
    "        verticalalignment='top', horizontalalignment='right',\n",
    "        bbox=dict(facecolor='white', alpha=0.5, edgecolor='none')\n",
    "    )\n",
    "\n",
    "for i, idx in enumerate(right_idxs_cl3[:6]):\n",
    "    axes[2, i].imshow(inputs[idx].squeeze(), cmap=\"gray\")\n",
    "    axes[2, i].axis(\"off\")\n",
    "    axes[2, i].text(\n",
    "        0.95, 0.95, f\"probs: {[round(p, 2) for p in probs[idx].squeeze().tolist()]}\",\n",
    "        transform=axes[2, i].transAxes, fontsize=14,\n",
    "        verticalalignment='top', horizontalalignment='right',\n",
    "        bbox=dict(facecolor='white', alpha=0.5, edgecolor='none')\n",
    "    )"
   ]
  },
  {
   "cell_type": "markdown",
   "id": "940e66b2",
   "metadata": {},
   "source": [
    "Visualize some whole images ER vs Mitochondria"
   ]
  },
  {
   "cell_type": "code",
   "execution_count": null,
   "id": "eb616511",
   "metadata": {},
   "outputs": [],
   "source": [
    "import tifffile as tiff"
   ]
  },
  {
   "cell_type": "code",
   "execution_count": null,
   "id": "b2786b08",
   "metadata": {},
   "outputs": [],
   "source": [
    "er_imgs = []\n",
    "mito_imgs = []\n",
    "for fpath, label in input_data[:40]:\n",
    "    if label == 1:  # Mitochondria\n",
    "        mito_imgs.append(tiff.imread(fpath))\n",
    "    elif label == 3:  # ER\n",
    "        er_imgs.append(tiff.imread(fpath))\n",
    "        \n",
    "print(f\"Number of ER images: {len(er_imgs)}\")\n",
    "print(f\"Number of Mitochondria images: {len(mito_imgs)}\")"
   ]
  },
  {
   "cell_type": "code",
   "execution_count": null,
   "id": "c7a8ab9a",
   "metadata": {},
   "outputs": [],
   "source": [
    "fig, axes = plt.subplots(2, 5, figsize=(25, 10), constrained_layout=True)\n",
    "fig.patch.set_facecolor(\"black\")\n",
    "for i, img in enumerate(er_imgs[:5]):\n",
    "    axes[0, i].imshow(img.squeeze()[:512, :512], cmap=\"gray\")\n",
    "    axes[0, i].axis(\"off\")\n",
    "\n",
    "for i, img in enumerate(mito_imgs[:5]):\n",
    "    axes[1, i].imshow(img.squeeze()[:512, :512], cmap=\"gray\")\n",
    "    axes[1, i].axis(\"off\")"
   ]
  },
  {
   "cell_type": "code",
   "execution_count": null,
   "id": "2a32e6f0",
   "metadata": {},
   "outputs": [],
   "source": []
  }
 ],
 "metadata": {
  "kernelspec": {
   "display_name": "lambdasplit_env",
   "language": "python",
   "name": "python3"
  },
  "language_info": {
   "codemirror_mode": {
    "name": "ipython",
    "version": 3
   },
   "file_extension": ".py",
   "mimetype": "text/x-python",
   "name": "python",
   "nbconvert_exporter": "python",
   "pygments_lexer": "ipython3",
   "version": "3.10.16"
  }
 },
 "nbformat": 4,
 "nbformat_minor": 5
}
